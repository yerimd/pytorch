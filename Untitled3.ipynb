{
 "cells": [
  {
   "cell_type": "markdown",
   "id": "f61389a3",
   "metadata": {},
   "source": [
    "# 파이토치 기본문법"
   ]
  },
  {
   "cell_type": "markdown",
   "id": "0bcbe24d",
   "metadata": {},
   "source": [
    "## torch.nn.Linear"
   ]
  },
  {
   "cell_type": "code",
   "execution_count": null,
   "id": "77c2b8b0",
   "metadata": {},
   "outputs": [],
   "source": [
    "# Linear layer 선언\n",
    "linear_1 = torch.nn.Linear(input_size, output_size)\n",
    "\n",
    "# forward 부분 (실제로 데이터가 거치는 부분)\n",
    "# 넣어주는 인자값은 input만, return은 output_size로 반환됨\n",
    "linear1 = linear_1(input_size)"
   ]
  },
  {
   "cell_type": "markdown",
   "id": "20dc683a",
   "metadata": {},
   "source": [
    "- 함수 선언시 두개의 인자값이 들어감/ 첫번째 인자값은 input size, 두번째 인자값은 output size이다\n",
    "\n",
    "- 실제로 데이터가 거치는 forward()부분에선 두번째 인자값없이 첫번째 인자값만 넘겨주면된다. return되는 tensor의 크기가 output size가 됨"
   ]
  },
  {
   "cell_type": "markdown",
   "id": "094b228a",
   "metadata": {},
   "source": [
    "## torch.nn.ReLU, torch.nn.Sigmoid"
   ]
  },
  {
   "cell_type": "code",
   "execution_count": null,
   "id": "16c0db1b",
   "metadata": {},
   "outputs": [],
   "source": [
    "# 선언부분\n",
    "relu = torch.nn.ReLU()\n",
    "sigmoid = torch.nn.Sigmoid()\n",
    "\n",
    "# forward부분\n",
    "rele_1 = relu(linear1)\n",
    "sigmoid_1 = sigmoid(linear2)"
   ]
  },
  {
   "cell_type": "markdown",
   "id": "94db7eaa",
   "metadata": {},
   "source": [
    "- 함수 선언시 넘겨주는 인자값은 없음\n",
    "\n",
    "- 실제로 데이터가 거치는 부분은 첫번째 인자값만 넘겨주면됨"
   ]
  },
  {
   "cell_type": "code",
   "execution_count": null,
   "id": "3757245c",
   "metadata": {},
   "outputs": [],
   "source": [
    "import torch.nn.functional as F\n",
    "fc1 = nn.Linear(input_size, output_size)\n",
    "x = F.relu(fc1(x))"
   ]
  },
  {
   "cell_type": "markdown",
   "id": "9c17d8fa",
   "metadata": {},
   "source": [
    "- 참고로 ReLU나 Sigmoid함수는 torch.nn.functional꺼를 써도 같음"
   ]
  },
  {
   "cell_type": "markdown",
   "id": "0737961b",
   "metadata": {},
   "source": [
    "## torch.nn.Dropout & torch.nn.functional.dropout"
   ]
  },
  {
   "cell_type": "code",
   "execution_count": null,
   "id": "7760cf63",
   "metadata": {},
   "outputs": [],
   "source": [
    "import torch.nn.functional as F\n",
    "# x 는 Linear에서 출력되는 return 값\n",
    "x = F.dropout(x, training=self.training, p = 0.2)"
   ]
  },
  {
   "cell_type": "markdown",
   "id": "e5a7ec5c",
   "metadata": {},
   "source": [
    "- 과적합 방지 위해 드롭아웃 적용시 사용하는 함수.\n",
    "- training이란 변수는 model.train() 또는 model.eval() 함수를 호출하여 모드를 바꿀때마다, self.training이 True 또는 False로 바뀜"
   ]
  },
  {
   "cell_type": "markdown",
   "id": "4ab6566e",
   "metadata": {},
   "source": [
    "## torch.nn.Conv2d"
   ]
  },
  {
   "cell_type": "code",
   "execution_count": null,
   "id": "97054db9",
   "metadata": {},
   "outputs": [],
   "source": [
    "# Conv2d 함수선언\n",
    "conv1 = torch.nn.Conv2d(1, 10, kernel_size=5, stride = 1)\n",
    "\n",
    "# forward부분\n",
    "x = conv1(x)"
   ]
  },
  {
   "cell_type": "markdown",
   "id": "f14ed304",
   "metadata": {},
   "source": [
    "- CNN을 구현할때 쓰는 convolution 함수\n",
    "- 첫번째 인자값은 input의 채널수 - 흑백이미지일 경우 채널수는 1개, RGB이미지일 경우 채널수는 3개\n",
    "- 두번째 인자값은 출력되는 채널수\n",
    "- kernel_size는 한자리 수일때는 정사각형으로 인식함 - 예를들어서 kernel_size = 5라고 했을때 커널사이즈는 (5,5)로 됨, 만약에 직사각형으로 넣고싶다면 (3,5) 배열을 입력하면됨\n",
    "- stride - 말그대로 stride의 정의, 이미지 훑어보는 간격정의\n",
    "- padding, bias등등 여러가지 파라미터값을 넣을수있다\n",
    "- 2d - two dimension"
   ]
  },
  {
   "cell_type": "markdown",
   "id": "338e3f24",
   "metadata": {},
   "source": [
    "## torch.nn.MaxPool2d"
   ]
  },
  {
   "cell_type": "code",
   "execution_count": null,
   "id": "413fedf7",
   "metadata": {},
   "outputs": [],
   "source": [
    "conv1 = torch.nn.Conv2d(1, 10, kernel_size = 3)\n",
    "\n",
    "# 방법1\n",
    "x = torch.nn.MaxPool2d(conv1(x), 2)\n",
    "\n",
    "# 방법2\n",
    "x = torch.nn.functional.max_pool2d(conv1(x), 2)"
   ]
  },
  {
   "cell_type": "markdown",
   "id": "3c537049",
   "metadata": {},
   "source": [
    "보통 컨볼루션 레이어를 지나고나서 풀링작업을 진행할때 쓰는 함수. ReLU랑 비슷하게 쓰면된다\n",
    "\n",
    "두개의 인자값이 들어가게되는데. 첫번째는 input에 대한 데이터, 두번째는 풀링윈도우의 사이즈 정의다.\n",
    "\n",
    "이것도 마찬가지로 torch.nn.functional에 들어있는 max_pool2d함수를 써도된다"
   ]
  },
  {
   "cell_type": "markdown",
   "id": "47e2ee0d",
   "metadata": {},
   "source": [
    "## torch.nn.Dropout2d & torch.nn.functional.dropout2d"
   ]
  },
  {
   "cell_type": "markdown",
   "id": "da524a31",
   "metadata": {},
   "source": [
    "Linear에서 사용하던 dropout과 동일하다.\n",
    "\n",
    "보통은 컨볼루션 - 풀링 - 컨볼루션 - 드롭아웃 - 풀링 같은 순서로사용한다. dropout과 동일한 인자값을 갖고있다.\n",
    "\n",
    "torch.nn.functional.dropout2d(input, p=0.5, training=True, inplace=False)"
   ]
  }
 ],
 "metadata": {
  "kernelspec": {
   "display_name": "Python 3 (ipykernel)",
   "language": "python",
   "name": "python3"
  },
  "language_info": {
   "codemirror_mode": {
    "name": "ipython",
    "version": 3
   },
   "file_extension": ".py",
   "mimetype": "text/x-python",
   "name": "python",
   "nbconvert_exporter": "python",
   "pygments_lexer": "ipython3",
   "version": "3.10.4"
  }
 },
 "nbformat": 4,
 "nbformat_minor": 5
}
